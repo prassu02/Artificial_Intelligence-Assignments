{
  "nbformat": 4,
  "nbformat_minor": 0,
  "metadata": {
    "colab": {
      "provenance": []
    },
    "kernelspec": {
      "name": "python3",
      "display_name": "Python 3"
    },
    "language_info": {
      "name": "python"
    }
  },
  "cells": [
    {
      "cell_type": "markdown",
      "source": [
        "# Convolutional Neural Networks (CNNs):-\n",
        "  Task: Build an image classifier using the MNIST dataset"
      ],
      "metadata": {
        "id": "Z3c9lS2SCvo4"
      }
    },
    {
      "cell_type": "code",
      "execution_count": 1,
      "metadata": {
        "id": "ztziE-R976yi"
      },
      "outputs": [],
      "source": [
        "# Step 1: Install Libraries (Colab default: already available)\n",
        "import torch\n",
        "import torch.nn as nn\n",
        "import torch.nn.functional as F\n",
        "import torch.optim as optim\n",
        "import torchvision\n",
        "from torchvision import datasets, transforms\n",
        "import matplotlib.pyplot as plt"
      ]
    },
    {
      "cell_type": "code",
      "source": [
        "# Step 2: Device Configuration\n",
        "device = torch.device(\"cuda\" if torch.cuda.is_available() else \"cpu\")\n",
        "print(\"Using device:\", device)"
      ],
      "metadata": {
        "colab": {
          "base_uri": "https://localhost:8080/"
        },
        "id": "y4-fjCrMDGOF",
        "outputId": "ed9a99e5-2a9e-4279-b16c-ed50a5e11f7f"
      },
      "execution_count": 2,
      "outputs": [
        {
          "output_type": "stream",
          "name": "stdout",
          "text": [
            "Using device: cpu\n"
          ]
        }
      ]
    },
    {
      "cell_type": "markdown",
      "source": [
        "# Load MNIST Dataset"
      ],
      "metadata": {
        "id": "4XCG8ZXnDU80"
      }
    },
    {
      "cell_type": "code",
      "source": [
        "# Download and transform dataset\n",
        "transform = transforms.Compose([\n",
        "    transforms.ToTensor(),\n",
        "    transforms.Normalize((0.1307,), (0.3081,))\n",
        "])\n",
        "\n",
        "train_dataset = datasets.MNIST(root='./data', train=True, download=True, transform=transform)\n",
        "test_dataset = datasets.MNIST(root='./data', train=False, download=True, transform=transform)\n",
        "\n",
        "train_loader = torch.utils.data.DataLoader(train_dataset, batch_size=64, shuffle=True)\n",
        "test_loader = torch.utils.data.DataLoader(test_dataset, batch_size=1000, shuffle=False)"
      ],
      "metadata": {
        "colab": {
          "base_uri": "https://localhost:8080/"
        },
        "id": "UZQgp7oSDGUi",
        "outputId": "ce5eac53-4d9f-452b-9fae-0c099d36fe16"
      },
      "execution_count": 3,
      "outputs": [
        {
          "output_type": "stream",
          "name": "stderr",
          "text": [
            "100%|██████████| 9.91M/9.91M [00:00<00:00, 55.1MB/s]\n",
            "100%|██████████| 28.9k/28.9k [00:00<00:00, 1.74MB/s]\n",
            "100%|██████████| 1.65M/1.65M [00:00<00:00, 14.5MB/s]\n",
            "100%|██████████| 4.54k/4.54k [00:00<00:00, 4.60MB/s]\n"
          ]
        }
      ]
    },
    {
      "cell_type": "markdown",
      "source": [
        "#Build the CNN Model"
      ],
      "metadata": {
        "id": "EXVKdtVIDk1s"
      }
    },
    {
      "cell_type": "code",
      "source": [
        "class CNNModel(nn.Module):\n",
        "    def __init__(self):\n",
        "        super(CNNModel, self).__init__()\n",
        "        self.conv1 = nn.Conv2d(1, 32, kernel_size=3)\n",
        "        self.conv2 = nn.Conv2d(32, 64, kernel_size=3)\n",
        "        self.pool = nn.MaxPool2d(2)\n",
        "        self.dropout = nn.Dropout(0.25)\n",
        "        self.fc1 = nn.Linear(9216, 128)\n",
        "        self.fc2 = nn.Linear(128, 10)\n",
        "\n",
        "    def forward(self, x):\n",
        "        x = F.relu(self.conv1(x))      # this is Conv Layer 1\n",
        "        x = F.relu(self.conv2(x))      #this is Conv Layer 2\n",
        "        x = self.pool(x)               # Max Pooling\n",
        "        x = self.dropout(x)            # Dropout\n",
        "        x = x.view(-1, 9216)           # Flatten\n",
        "        x = F.relu(self.fc1(x))        # FC1\n",
        "        x = self.fc2(x)                # this one Output Layer\n",
        "        return x\n",
        "\n",
        "model = CNNModel().to(device)"
      ],
      "metadata": {
        "id": "4KJsRnaUDGX6"
      },
      "execution_count": 9,
      "outputs": []
    },
    {
      "cell_type": "markdown",
      "source": [
        "# Define Optimizer and Loss Function"
      ],
      "metadata": {
        "id": "BBBANSgnEAF-"
      }
    },
    {
      "cell_type": "code",
      "source": [
        "optimizer = optim.Adam(model.parameters(), lr=0.001)\n",
        "loss_fn = nn.CrossEntropyLoss()"
      ],
      "metadata": {
        "id": "AhiJfCrgD8yi"
      },
      "execution_count": 8,
      "outputs": []
    },
    {
      "cell_type": "markdown",
      "source": [
        "#Train the CNN"
      ],
      "metadata": {
        "id": "Q9vh609HEJ9K"
      }
    },
    {
      "cell_type": "code",
      "source": [
        "def train(model, device, train_loader, optimizer, epoch):\n",
        "    model.train()\n",
        "    for batch_idx, (data, target) in enumerate(train_loader):\n",
        "        data, target = data.to(device), target.to(device)\n",
        "        optimizer.zero_grad()\n",
        "        output = model(data)\n",
        "        loss = loss_fn(output, target)\n",
        "        loss.backward()\n",
        "        optimizer.step()\n",
        "\n",
        "        if batch_idx % 100 == 0:\n",
        "            print(f\"Train Epoch: {epoch} [{batch_idx * len(data)}/{len(train_loader.dataset)}]  Loss: {loss.item():.4f}\")\n",
        "\n",
        "for epoch in range(1, 6):  # 5 epochs\n",
        "    train(model, device, train_loader, optimizer, epoch)"
      ],
      "metadata": {
        "colab": {
          "base_uri": "https://localhost:8080/"
        },
        "id": "Kd9qBmXcD80v",
        "outputId": "7ed4d126-23b7-401c-aa9b-4bf158267537"
      },
      "execution_count": 6,
      "outputs": [
        {
          "output_type": "stream",
          "name": "stdout",
          "text": [
            "Train Epoch: 1 [0/60000]  Loss: 2.3033\n",
            "Train Epoch: 1 [6400/60000]  Loss: 0.1960\n",
            "Train Epoch: 1 [12800/60000]  Loss: 0.1657\n",
            "Train Epoch: 1 [19200/60000]  Loss: 0.1294\n",
            "Train Epoch: 1 [25600/60000]  Loss: 0.1436\n",
            "Train Epoch: 1 [32000/60000]  Loss: 0.0129\n",
            "Train Epoch: 1 [38400/60000]  Loss: 0.0490\n",
            "Train Epoch: 1 [44800/60000]  Loss: 0.1759\n",
            "Train Epoch: 1 [51200/60000]  Loss: 0.1593\n",
            "Train Epoch: 1 [57600/60000]  Loss: 0.0052\n",
            "Train Epoch: 2 [0/60000]  Loss: 0.2107\n",
            "Train Epoch: 2 [6400/60000]  Loss: 0.1146\n",
            "Train Epoch: 2 [12800/60000]  Loss: 0.0567\n",
            "Train Epoch: 2 [19200/60000]  Loss: 0.0395\n",
            "Train Epoch: 2 [25600/60000]  Loss: 0.1484\n",
            "Train Epoch: 2 [32000/60000]  Loss: 0.0207\n",
            "Train Epoch: 2 [38400/60000]  Loss: 0.0832\n",
            "Train Epoch: 2 [44800/60000]  Loss: 0.0342\n",
            "Train Epoch: 2 [51200/60000]  Loss: 0.0455\n",
            "Train Epoch: 2 [57600/60000]  Loss: 0.1229\n",
            "Train Epoch: 3 [0/60000]  Loss: 0.0236\n",
            "Train Epoch: 3 [6400/60000]  Loss: 0.0125\n",
            "Train Epoch: 3 [12800/60000]  Loss: 0.0207\n",
            "Train Epoch: 3 [19200/60000]  Loss: 0.0413\n",
            "Train Epoch: 3 [25600/60000]  Loss: 0.0110\n",
            "Train Epoch: 3 [32000/60000]  Loss: 0.0179\n",
            "Train Epoch: 3 [38400/60000]  Loss: 0.0521\n",
            "Train Epoch: 3 [44800/60000]  Loss: 0.0161\n",
            "Train Epoch: 3 [51200/60000]  Loss: 0.0212\n",
            "Train Epoch: 3 [57600/60000]  Loss: 0.0014\n",
            "Train Epoch: 4 [0/60000]  Loss: 0.0246\n",
            "Train Epoch: 4 [6400/60000]  Loss: 0.0081\n",
            "Train Epoch: 4 [12800/60000]  Loss: 0.1103\n",
            "Train Epoch: 4 [19200/60000]  Loss: 0.0003\n",
            "Train Epoch: 4 [25600/60000]  Loss: 0.0034\n",
            "Train Epoch: 4 [32000/60000]  Loss: 0.0653\n",
            "Train Epoch: 4 [38400/60000]  Loss: 0.0006\n",
            "Train Epoch: 4 [44800/60000]  Loss: 0.0091\n",
            "Train Epoch: 4 [51200/60000]  Loss: 0.0737\n",
            "Train Epoch: 4 [57600/60000]  Loss: 0.0039\n",
            "Train Epoch: 5 [0/60000]  Loss: 0.0074\n",
            "Train Epoch: 5 [6400/60000]  Loss: 0.0102\n",
            "Train Epoch: 5 [12800/60000]  Loss: 0.0029\n",
            "Train Epoch: 5 [19200/60000]  Loss: 0.0042\n",
            "Train Epoch: 5 [25600/60000]  Loss: 0.0080\n",
            "Train Epoch: 5 [32000/60000]  Loss: 0.0828\n",
            "Train Epoch: 5 [38400/60000]  Loss: 0.0004\n",
            "Train Epoch: 5 [44800/60000]  Loss: 0.0007\n",
            "Train Epoch: 5 [51200/60000]  Loss: 0.0180\n",
            "Train Epoch: 5 [57600/60000]  Loss: 0.0188\n"
          ]
        }
      ]
    },
    {
      "cell_type": "markdown",
      "source": [
        "#Evaluate the Model"
      ],
      "metadata": {
        "id": "FeZmHG3kEdVv"
      }
    },
    {
      "cell_type": "code",
      "source": [
        "def test(model, device, test_loader):\n",
        "    model.eval()\n",
        "    correct = 0\n",
        "    test_loss = 0\n",
        "\n",
        "    with torch.no_grad():\n",
        "        for data, target in test_loader:\n",
        "            data, target = data.to(device), target.to(device)\n",
        "            output = model(data)\n",
        "            test_loss += loss_fn(output, target).item()\n",
        "            pred = output.argmax(dim=1)\n",
        "            correct += pred.eq(target).sum().item()\n",
        "\n",
        "    test_loss /= len(test_loader)\n",
        "    accuracy = 100. * correct / len(test_loader.dataset)\n",
        "    print(f\"\\nTest set: Average loss: {test_loss:.4f}, Accuracy: {correct}/{len(test_loader.dataset)} ({accuracy:.2f}%)\")\n",
        "\n",
        "test(model, device, test_loader)"
      ],
      "metadata": {
        "colab": {
          "base_uri": "https://localhost:8080/"
        },
        "id": "MEMtdQtwD84N",
        "outputId": "269b0f53-08a4-4303-9a49-49ce68274d99"
      },
      "execution_count": 7,
      "outputs": [
        {
          "output_type": "stream",
          "name": "stdout",
          "text": [
            "\n",
            "Test set: Average loss: 0.0441, Accuracy: 9873/10000 (98.73%)\n"
          ]
        }
      ]
    },
    {
      "cell_type": "markdown",
      "source": [
        " # Visualize Some Predictions"
      ],
      "metadata": {
        "id": "xeicFNDBEr5q"
      }
    },
    {
      "cell_type": "code",
      "source": [
        "examples = enumerate(test_loader)\n",
        "batch_idx, (example_data, example_targets) = next(examples)\n",
        "\n",
        "with torch.no_grad():\n",
        "    output = model(example_data.to(device))\n",
        "\n",
        "plt.figure(figsize=(10, 5))\n",
        "for i in range(6):\n",
        "    plt.subplot(2, 3, i + 1)\n",
        "    plt.tight_layout()\n",
        "    plt.imshow(example_data[i][0], cmap='gray', interpolation='none')\n",
        "    plt.title(f\"Prediction: {output.argmax(1)[i].item()}\")\n",
        "    plt.xticks([])\n",
        "    plt.yticks([])\n",
        "plt.show()"
      ],
      "metadata": {
        "colab": {
          "base_uri": "https://localhost:8080/",
          "height": 483
        },
        "id": "hH5gibYOEq3B",
        "outputId": "d8b1937b-9865-41dd-9a61-08073cc50af4"
      },
      "execution_count": 10,
      "outputs": [
        {
          "output_type": "display_data",
          "data": {
            "text/plain": [
              "<Figure size 1000x500 with 6 Axes>"
            ],
            "image/png": "[encoded data removed]"
          },
          "metadata": {}
        }
      ]
    },
    {
      "cell_type": "markdown",
      "source": [
        "--------------------------------------------------------------------------------\n",
        "# ASSIGNMENT COMPLETED\n",
        "--------------------------------------------------------------------------------"
      ],
      "metadata": {
        "id": "BaSWalveFuEq"
      }
    }
  ]
}