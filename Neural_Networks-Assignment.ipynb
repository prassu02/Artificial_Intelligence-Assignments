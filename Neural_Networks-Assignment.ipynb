{
  "nbformat": 4,
  "nbformat_minor": 0,
  "metadata": {
    "colab": {
      "provenance": []
    },
    "kernelspec": {
      "name": "python3",
      "display_name": "Python 3"
    },
    "language_info": {
      "name": "python"
    }
  },
  "cells": [
    {
      "cell_type": "markdown",
      "source": [
        "# Neural Network From Scratch"
      ],
      "metadata": {
        "id": "DEb6qGfUW9zp"
      }
    },
    {
      "cell_type": "code",
      "execution_count": 13,
      "metadata": {
        "id": "7lJdrksrVaSy"
      },
      "outputs": [],
      "source": [
        "# import libraries\n",
        "import numpy as np"
      ]
    },
    {
      "cell_type": "markdown",
      "source": [
        "# # step 1: Sigmoid activation and its derivative"
      ],
      "metadata": {
        "id": "YC3dTigQZFlU"
      }
    },
    {
      "cell_type": "code",
      "source": [
        "def sigmoid(x):\n",
        "    return 1 / (1 + np.exp(-x))\n",
        "\n",
        "def sigmoid_derivative(x):\n",
        "    return sigmoid(x) * (1 - sigmoid(x))"
      ],
      "metadata": {
        "id": "J5tIWDDYXVSg"
      },
      "execution_count": 14,
      "outputs": []
    },
    {
      "cell_type": "markdown",
      "source": [
        "# # step 2: toy XOR input dataset"
      ],
      "metadata": {
        "id": "UnMtqEItZtYR"
      }
    },
    {
      "cell_type": "code",
      "source": [
        "X = np.array([[0,0],\n",
        "              [0,1],\n",
        "              [1,0],\n",
        "              [1,1]])\n",
        "\n",
        "y = np.array([[0], [1], [1], [0]])"
      ],
      "metadata": {
        "id": "J95HRwFyXVYl"
      },
      "execution_count": 15,
      "outputs": []
    },
    {
      "cell_type": "markdown",
      "source": [
        "# # Step 3: Initialize Weights & Biases"
      ],
      "metadata": {
        "id": "Lw4fbIc3Y8hp"
      }
    },
    {
      "cell_type": "code",
      "source": [
        "np.random.seed(42)\n",
        "\n",
        "input_size = 2\n",
        "hidden_size = 4\n",
        "output_size = 1\n",
        "learning_rate = 0.1\n",
        "\n",
        "W1 = np.random.randn(input_size, hidden_size)\n",
        "b1 = np.zeros((1, hidden_size))\n",
        "\n",
        "W2 = np.random.randn(hidden_size, output_size)\n",
        "b2 = np.zeros((1, output_size))"
      ],
      "metadata": {
        "id": "IfeND-svX-Nh"
      },
      "execution_count": 16,
      "outputs": []
    },
    {
      "cell_type": "markdown",
      "source": [
        "# # Step 4: Training Loop – Forward & Backpropagation"
      ],
      "metadata": {
        "id": "X3hQ8b9QZW3M"
      }
    },
    {
      "cell_type": "code",
      "source": [
        "# we can taken epochs 10000\n",
        "epochs = 10000\n",
        "\n",
        "for epoch in range(epochs):\n",
        "    # ---- Forward Propagation ----\n",
        "    z1 = np.dot(X, W1) + b1\n",
        "    a1 = sigmoid(z1)\n",
        "\n",
        "    z2 = np.dot(a1, W2) + b2\n",
        "    a2 = sigmoid(z2)\n",
        "\n",
        "    # ---- Loss ----\n",
        "    loss = np.mean((y - a2)**2)\n",
        "\n",
        "    # ---- Backward Propagation ----\n",
        "    d_a2 = (a2 - y) * sigmoid_derivative(z2)\n",
        "    d_W2 = np.dot(a1.T, d_a2)\n",
        "    d_b2 = np.sum(d_a2, axis=0, keepdims=True)\n",
        "\n",
        "    d_a1 = np.dot(d_a2, W2.T) * sigmoid_derivative(z1)\n",
        "    d_W1 = np.dot(X.T, d_a1)\n",
        "    d_b1 = np.sum(d_a1, axis=0, keepdims=True)\n",
        "\n",
        "    # ---- Update weights ----\n",
        "    W2 -= learning_rate * d_W2\n",
        "    b2 -= learning_rate * d_b2\n",
        "    W1 -= learning_rate * d_W1\n",
        "    b1 -= learning_rate * d_b1\n",
        "\n",
        "    if epoch % 1000 == 0:\n",
        "        print(f\"Epoch {epoch} | Loss: {loss:.4f}\")"
      ],
      "metadata": {
        "colab": {
          "base_uri": "https://localhost:8080/"
        },
        "id": "-YwCMG5eX-So",
        "outputId": "310cec2b-3bcf-4f4b-9aba-77821e66bc39"
      },
      "execution_count": 17,
      "outputs": [
        {
          "output_type": "stream",
          "name": "stdout",
          "text": [
            "Epoch 0 | Loss: 0.2832\n",
            "Epoch 1000 | Loss: 0.2452\n",
            "Epoch 2000 | Loss: 0.2124\n",
            "Epoch 3000 | Loss: 0.1503\n",
            "Epoch 4000 | Loss: 0.0572\n",
            "Epoch 5000 | Loss: 0.0209\n",
            "Epoch 6000 | Loss: 0.0107\n",
            "Epoch 7000 | Loss: 0.0067\n",
            "Epoch 8000 | Loss: 0.0047\n",
            "Epoch 9000 | Loss: 0.0035\n"
          ]
        }
      ]
    },
    {
      "cell_type": "markdown",
      "source": [
        "# # Step 5: Make Predictions"
      ],
      "metadata": {
        "id": "PrWO6F6IZhEU"
      }
    },
    {
      "cell_type": "code",
      "source": [
        "def predict(X):\n",
        "    a1 = sigmoid(np.dot(X, W1) + b1)\n",
        "    a2 = sigmoid(np.dot(a1, W2) + b2)\n",
        "    return a2\n",
        "\n",
        "preds = predict(X)\n",
        "print(\"Predictions after training:\")\n",
        "print(np.round(preds, 3))"
      ],
      "metadata": {
        "colab": {
          "base_uri": "https://localhost:8080/"
        },
        "id": "ozoaeTWjYqx2",
        "outputId": "aeba25e4-e51a-425f-a1dd-13df2e533040"
      },
      "execution_count": 18,
      "outputs": [
        {
          "output_type": "stream",
          "name": "stdout",
          "text": [
            "Predictions after training:\n",
            "[[0.037]\n",
            " [0.949]\n",
            " [0.945]\n",
            " [0.064]]\n"
          ]
        }
      ]
    },
    {
      "cell_type": "markdown",
      "source": [
        "--------------------------------------------------------------------------------\n",
        " # ASSIGNMENT COMPLETED\n",
        "--------------------------------------------------------------------------------"
      ],
      "metadata": {
        "id": "5Go60hZraDp5"
      }
    }
  ]
}